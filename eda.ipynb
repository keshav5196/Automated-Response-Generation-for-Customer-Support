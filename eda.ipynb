{
 "cells": [
  {
   "cell_type": "code",
   "execution_count": 1,
   "metadata": {},
   "outputs": [],
   "source": [
    "%load_ext autoreload\n",
    "%autoreload 2"
   ]
  },
  {
   "cell_type": "code",
   "execution_count": 9,
   "metadata": {},
   "outputs": [],
   "source": [
    "import pandas as pd\n",
    "import warnings\n",
    "warnings.filterwarnings('ignore')"
   ]
  },
  {
   "cell_type": "markdown",
   "metadata": {},
   "source": [
    "## EDA."
   ]
  },
  {
   "cell_type": "code",
   "execution_count": 22,
   "metadata": {},
   "outputs": [],
   "source": [
    "df = pd.read_csv(\"hf://datasets/Kaludi/Customer-Support-Responses/Customer-Support.csv\")"
   ]
  },
  {
   "cell_type": "code",
   "execution_count": 23,
   "metadata": {},
   "outputs": [
    {
     "data": {
      "text/plain": [
       "(74, 2)"
      ]
     },
     "execution_count": 23,
     "metadata": {},
     "output_type": "execute_result"
    }
   ],
   "source": [
    "df.shape"
   ]
  },
  {
   "cell_type": "code",
   "execution_count": 24,
   "metadata": {},
   "outputs": [
    {
     "data": {
      "text/html": [
       "<div>\n",
       "<style scoped>\n",
       "    .dataframe tbody tr th:only-of-type {\n",
       "        vertical-align: middle;\n",
       "    }\n",
       "\n",
       "    .dataframe tbody tr th {\n",
       "        vertical-align: top;\n",
       "    }\n",
       "\n",
       "    .dataframe thead th {\n",
       "        text-align: right;\n",
       "    }\n",
       "</style>\n",
       "<table border=\"1\" class=\"dataframe\">\n",
       "  <thead>\n",
       "    <tr style=\"text-align: right;\">\n",
       "      <th></th>\n",
       "      <th>query</th>\n",
       "      <th>response</th>\n",
       "    </tr>\n",
       "  </thead>\n",
       "  <tbody>\n",
       "    <tr>\n",
       "      <th>0</th>\n",
       "      <td>My order hasn't arrived yet.</td>\n",
       "      <td>We apologize for the inconvenience. Can you pl...</td>\n",
       "    </tr>\n",
       "    <tr>\n",
       "      <th>1</th>\n",
       "      <td>I received a damaged product.</td>\n",
       "      <td>We apologize for the inconvenience. Can you pl...</td>\n",
       "    </tr>\n",
       "    <tr>\n",
       "      <th>2</th>\n",
       "      <td>I need to return an item.</td>\n",
       "      <td>Certainly. Please provide your order number an...</td>\n",
       "    </tr>\n",
       "    <tr>\n",
       "      <th>3</th>\n",
       "      <td>I want to change my shipping address.</td>\n",
       "      <td>No problem. Can you please provide your order ...</td>\n",
       "    </tr>\n",
       "    <tr>\n",
       "      <th>4</th>\n",
       "      <td>I have a question about my bill.</td>\n",
       "      <td>We'd be happy to help. Can you please provide ...</td>\n",
       "    </tr>\n",
       "  </tbody>\n",
       "</table>\n",
       "</div>"
      ],
      "text/plain": [
       "                                   query  \\\n",
       "0           My order hasn't arrived yet.   \n",
       "1          I received a damaged product.   \n",
       "2              I need to return an item.   \n",
       "3  I want to change my shipping address.   \n",
       "4       I have a question about my bill.   \n",
       "\n",
       "                                            response  \n",
       "0  We apologize for the inconvenience. Can you pl...  \n",
       "1  We apologize for the inconvenience. Can you pl...  \n",
       "2  Certainly. Please provide your order number an...  \n",
       "3  No problem. Can you please provide your order ...  \n",
       "4  We'd be happy to help. Can you please provide ...  "
      ]
     },
     "execution_count": 24,
     "metadata": {},
     "output_type": "execute_result"
    }
   ],
   "source": [
    "df.head()"
   ]
  },
  {
   "cell_type": "code",
   "execution_count": 25,
   "metadata": {},
   "outputs": [
    {
     "name": "stdout",
     "output_type": "stream",
     "text": [
      "My order hasn't arrived yet.\n",
      "I received a damaged product.\n",
      "I need to return an item.\n",
      "I want to change my shipping address.\n",
      "I have a question about my bill.\n",
      "How do I cancel my subscription?\n",
      "Can I get a refund for my purchase?\n",
      "I'd like to track my order.\n",
      "My account has been locked.\n",
      "I can't find the item I'm looking for.\n",
      "I'm having trouble applying a promo code.\n",
      "How do I update my payment information?\n",
      "I haven't received a response to my email inquiry.\n",
      "Can I change the size of an item in my order?\n",
      "What is the status of my warranty claim?\n",
      "Is my item in stock?\n",
      "My promo code has expired. Can I still use it?\n",
      "How do I reset my password?\n",
      "Can I place a bulk order?\n",
      "How do I apply for a job at your company?\n",
      "Can I add an item to an existing order?\n",
      "How long does shipping take?\n",
      "I was charged twice for my order.\n",
      "Where can I find your sizing chart?\n",
      "I need technical support for a product.\n",
      "Can I exchange an item for a different color?\n",
      "How do I apply for a store credit card?\n",
      "Where is your store located?\n",
      "I can't log into my account.\n",
      "Do you offer gift wrapping?\n",
      "Can I schedule a delivery?\n",
      "How do I unsubscribe from your newsletter?\n",
      "What is your return policy?\n",
      "Do you offer price matching?\n",
      "Are there any current promotions or sales?\n",
      "My coupon isn't working.\n",
      "Can you help me with a product recommendation?\n",
      "Do you offer international shipping?\n",
      "Can I place an order over the phone?\n",
      "How do I know if my order went through?\n",
      "Can I use multiple promo codes on one order?\n",
      "What are your customer service hours?\n",
      "Where can I find the user manual for my product?\n",
      "Do you offer a warranty on your products?\n",
      "Can I place an order for in-store pickup?\n",
      "How do I sign up for your rewards program?\n",
      "Can I pay with a gift card online?\n",
      "I can't find my order confirmation email.\n",
      "Do you offer a military discount?\n",
      "What is the processing time for my order?\n",
      "How do I update my shipping preferences?\n",
      "Is my payment information secure?\n",
      "Can I pre-order an item?\n",
      "How do I use a gift card in-store?\n",
      "Do you have a loyalty program?\n",
      "Is there a mobile app for your store?\n",
      "I need help assembling my product.\n",
      "Do you offer financing options?\n",
      "Can I reserve an item in-store?\n",
      "How do I get a price adjustment for a recent purchase?\n",
      "How do I change my email preferences?\n",
      "Can I use my store credit online?\n",
      "What are the washing instructions for this item?\n",
      "Can I get a replacement part for my product?\n",
      "Do you offer free shipping?\n",
      "Can I place a custom order?\n",
      "How do I report a problem with your website?\n",
      "What is your policy on price adjustments?\n",
      "Do you have any upcoming sales or events?\n",
      "How do I schedule a consultation or appointment?\n",
      "Can I get a copy of my receipt?\n",
      "Can I use a competitor's coupon at your store?\n",
      "Do you have a recycling program?\n",
      "How do I report a lost or stolen gift card?\n"
     ]
    }
   ],
   "source": [
    "for i in range(len(df)):\n",
    "    print(df[\"query\"].iloc[i])"
   ]
  },
  {
   "cell_type": "code",
   "execution_count": 26,
   "metadata": {},
   "outputs": [
    {
     "name": "stdout",
     "output_type": "stream",
     "text": [
      "We apologize for the inconvenience. Can you please provide your order number so we can investigate?\n",
      "We apologize for the inconvenience. Can you please provide a photo of the damaged product so we can assist you further?\n",
      "Certainly. Please provide your order number and reason for return, and we will provide you with instructions on how to proceed.\n",
      "No problem. Can you please provide your order number and the new shipping address you'd like to use?\n",
      "We'd be happy to help. Can you please provide your account number and a brief description of your question?\n",
      "We're sorry to hear that. Can you please provide your account email and the name of the subscription you'd like to cancel?\n",
      "We understand your concern. Please provide your order number and the reason for your refund request so we can assist you further.\n",
      "Of course. Can you please provide your order number so we can check the current status for you?\n",
      "We apologize for the inconvenience. Can you please provide your account email so we can help you regain access?\n",
      "We're here to help. Can you please provide a description or product name of the item you're looking for so we can assist you?\n",
      "We apologize for the inconvenience. Can you please provide the promo code you're trying to use, and we'll help you resolve the issue?\n",
      "We can help with that. Can you please provide your account email so we can guide you through updating your payment information?\n",
      "We apologize for the delay. Can you please provide your ticket number or account email so we can follow up on your inquiry?\n",
      "Certainly. Can you please provide your order number and the details of the item you'd like to change?\n",
      "We'd be happy to check for you. Can you please provide your claim number or the product's serial number?\n",
      "To check availability, can you please provide the product name or SKU so we can assist you?\n",
      "Unfortunately, expired promo codes cannot be used. However, please provide the code, and we'll see if there's a similar offer currently available.\n",
      "We can help with that. Please provide your account email, and we'll send you instructions on how to reset your password.\n",
      "Certainly. Can you please provide the product name or SKU, and the quantity you'd like to order so we can check availability and pricing?\n",
      "Thank you for your interest. Can you please provide your email address so we can send you information on how to apply?\n",
      "We'll do our best to help. Can you please provide your order number and the details of the item you'd like to add?\n",
      "We'd be happy to provide an estimate. Can you please provide your shipping destination and the product name or SKU?\n",
      "We apologize for the inconvenience. Can you please provide your order number so we can investigate and resolve the issue?\n",
      "We'd be happy to help. Can you please provide the product name or SKU so we can direct you to the appropriate sizing chart?\n",
      "We're here to help. Can you please provide the product name, SKU, or serial number, and a description of the issue you're experiencing?\n",
      "Certainly. Can you please provide your order number and the details of the item you'd like to exchange?\n",
      "Thank you for your interest. Can you please provide your email address so we can send you information on how to apply?\n",
      "We'd be happy to help you find a store near you. Can you please provide your city and state or zip code?\n",
      "We apologize for the inconvenience. Can you please provide your account email so we can help you troubleshoot the issue?\n",
      "We do offer gift wrapping for select items. Can you please provide the product name or SKU so we can confirm if gift wrapping is available?\n",
      "Certainly. Can you please provide your order number and the preferred date and time for delivery?\n",
      "We're sorry to see you go. Can you please provide your email address so we can remove you from our mailing list?\n",
      "We'd be happy to provide information on our return policy. Can you please provide the product name or SKU so we can give you the most accurate information?\n",
      "We do offer price matching in certain cases. Can you please provide the product name or SKU and the competitor's pricing information?\n",
      "We'd be happy to inform you of any current promotions. Can you please provide the product name or SKU you're interested in, or the type of promotion you're looking for?\n",
      "We apologize for the inconvenience. Can you please provide the coupon code and the product name or SKU you're trying to apply it to?\n",
      "Of course! Can you please provide some details about what you're looking for, such as product type, features, or price range?\n",
      "We'd be happy to help. Can you please provide your shipping destination and the product name or SKU you're interested in?\n",
      "Certainly. Can you please provide your phone number and the best time to reach you, and one of our representatives will contact you to place the order?\n",
      "We can help you with that. Can you please provide your account email or order number so we can check the status for you?\n",
      "In most cases, only one promo code can be applied per order. Can you please provide the promo codes you're trying to use so we can check their compatibility?\n",
      "Our customer service team is available 24/7 to assist you. Please feel free to reach out with any questions or concerns.\n",
      "We'd be happy to help. Can you please provide the product name, SKU, or serial number so we can direct you to the appropriate user manual?\n",
      "We do offer warranties on select products. Can you please provide the product name or SKU so we can provide you with warranty information?\n",
      "Certainly. Can you please provide the product name or SKU and the store location where you'd like to pick up your order?\n",
      "Thank you for your interest in our rewards program. Can you please provide your email address so we can send you information on how to sign up?\n",
      "Yes, you can use gift cards for online purchases. Can you please provide the gift card number and the product name or SKU you're interested in?\n",
      "We apologize for the inconvenience. Can you please provide your account email or order number so we can resend the confirmation email?\n",
      "Yes, we do offer a military discount. Can you please provide your military ID or email address so we can apply the discount to your account?\n",
      "We'd be happy to provide an estimate. Can you please provide your order number or the product name or SKU?\n",
      "We can help with that. Can you please provide your account email so we can guide you through updating your shipping preferences?\n",
      "Yes, we take security very seriously. Can you please provide your account email so we can verify the security measures in place for your payment information?\n",
      "Certainly. Can you please provide the product name or SKU and your email address so we can notify you when pre-orders are available?\n",
      "To use a gift card in-store, simply present the gift card at the time of purchase. Can you please provide the gift card number so we can check the balance for you?\n",
      "Yes, we do have a loyalty program. Can you please provide your email address so we can send you information on how to join and enjoy the benefits?\n",
      "Yes, we do have a mobile app. Can you please provide your email address so we can send you a link to download the app and instructions on how to use it?\n",
      "We're here to help. Can you please provide the product name, SKU, or serial number, and a description of the issue you're experiencing during assembly?\n",
      "We do offer financing options for select purchases. Can you please provide the product name or SKU and your email address so we can send you more information?\n",
      "Certainly. Can you please provide the product name or SKU and the store location where you'd like to reserve the item?\n",
      "We'd be happy to help. Can you please provide your order number and the product name or SKU for the item you'd like a price adjustment on?\n",
      "We can help with that. Can you please provide your account email so we can guide you through updating your email preferences?\n",
      "Yes, you can use store credit for online purchases. Can you please provide the store credit number and the product name or SKU you're interested in?\n",
      "We'd be happy to help. Can you please provide the product name or SKU so we can provide you with the proper washing instructions?\n",
      "Certainly. Can you please provide the product name, SKU, or serial number, and a description of the part you need?\n",
      "We do offer free shipping on select orders. Can you please provide the product name or SKU and your shipping destination so we can check if your order qualifies?\n",
      "We'd be happy to assist you. Can you please provide the product name or SKU and a description of the customizations you'd like?\n",
      "We appreciate your feedback. Can you please provide a description of the issue you're experiencing and your email address so we can follow up with you?\n",
      "We'd be happy to provide information on our price adjustment policy. Can you please provide the product name or SKU so we can give you the most accurate information?\n",
      "We'd be happy to inform you of any upcoming sales or events. Can you please provide your email address so we can keep you updated?\n",
      "We'd be happy to help. Can you please provide your name, phone number, and the service you're interested in so we can schedule your appointment?\n",
      "Certainly. Can you please provide your order number or account email so we can locate your receipt and send you a copy?\n",
      "In some cases, we may accept competitor coupons. Can you please provide the competitor's coupon code and the product name or SKU you'd like to apply it to?\n",
      "Yes, we do have a recycling program. Can you please provide your email address so we can send you information on how to participate?\n",
      "We're sorry to hear that. Can you please provide the gift card number, if available, and your email address so we can assist you further?\n"
     ]
    }
   ],
   "source": [
    "for i in range(len(df)):\n",
    "    print(df[\"response\"].iloc[i])"
   ]
  },
  {
   "cell_type": "code",
   "execution_count": null,
   "metadata": {},
   "outputs": [],
   "source": []
  },
  {
   "cell_type": "markdown",
   "metadata": {},
   "source": [
    "**<u>Observations: </u>**\n",
    "\n",
    "1. There are no hyperlinks in the query and response text.\n",
    "2. There are no uncommon words in the data. Thus we can fine-tune a vanilla GPT based model."
   ]
  },
  {
   "cell_type": "code",
   "execution_count": null,
   "metadata": {},
   "outputs": [],
   "source": []
  },
  {
   "cell_type": "code",
   "execution_count": null,
   "metadata": {},
   "outputs": [],
   "source": []
  }
 ],
 "metadata": {
  "kernelspec": {
   "display_name": "Python 3 (ipykernel)",
   "language": "python",
   "name": "python3"
  },
  "language_info": {
   "codemirror_mode": {
    "name": "ipython",
    "version": 3
   },
   "file_extension": ".py",
   "mimetype": "text/x-python",
   "name": "python",
   "nbconvert_exporter": "python",
   "pygments_lexer": "ipython3",
   "version": "3.9.6"
  }
 },
 "nbformat": 4,
 "nbformat_minor": 2
}
